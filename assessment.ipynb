{
  "cells": [
    {
      "cell_type": "code",
      "source": [
        "#importing all required libraries\n",
        "from bs4 import BeautifulSoup\n",
        "import requests\n",
        "import pandas as pd"
      ],
      "metadata": {
        "id": "LDdpqsCvCN2K"
      },
      "execution_count": null,
      "outputs": []
    },
    {
      "cell_type": "code",
      "source": [
        "df = pd.read_excel('Input.xlsx')    #reading input file"
      ],
      "metadata": {
        "id": "aq1oc_mVD6ho"
      },
      "execution_count": null,
      "outputs": []
    },
    {
      "cell_type": "code",
      "source": [
        "title_name = []\n",
        "text_content = []\n",
        "for i in df['URL']:\n",
        "  html_text = requests.get(f'{i}').text\n",
        "  soup = BeautifulSoup(html_text,'lxml')\n",
        "  title = soup.find('h1',attrs={'class','entry-title','tdb-title-text'})            #accessing the title\n",
        "  content=soup.findAll('div', attrs={'class','td-post-content','tbd-block-inner'})  # accessing the content\n",
        "  if title == None:\n",
        "    title_name.append('Data Not Available')\n",
        "    text_content.append('Data Not Available')\n",
        "  else:\n",
        "    title_name.append(title.text)\n",
        "    content=content[0].text.replace('\\n',\" \")\n",
        "    text_content.append(content)\n"
      ],
      "metadata": {
        "id": "5VbKYLv_5oAt"
      },
      "execution_count": null,
      "outputs": []
    },
    {
      "cell_type": "code",
      "source": [],
      "metadata": {
        "id": "NJhyqQFO8h2G"
      },
      "execution_count": null,
      "outputs": []
    },
    {
      "cell_type": "code",
      "source": [
        "df = pd.DataFrame({'title_name':title_name,'content':text_content})    # making dataframe"
      ],
      "metadata": {
        "id": "oh9cnKbz0VQb"
      },
      "execution_count": null,
      "outputs": []
    },
    {
      "cell_type": "code",
      "source": [],
      "metadata": {
        "id": "JHNlzYE24WiD"
      },
      "execution_count": null,
      "outputs": []
    },
    {
      "cell_type": "code",
      "source": [
        "df.head()"
      ],
      "metadata": {
        "colab": {
          "base_uri": "https://localhost:8080/",
          "height": 206
        },
        "id": "yVqIJxv7UmdF",
        "outputId": "2030fae7-4f6d-44d7-90e4-cbe80416c485"
      },
      "execution_count": null,
      "outputs": [
        {
          "output_type": "execute_result",
          "data": {
            "text/plain": [
              "                                          title_name  \\\n",
              "0  Rise of telemedicine and its Impact on Livelih...   \n",
              "1  Rise of e-health and its impact on humans by t...   \n",
              "2  Rise of e-health and its impact on humans by t...   \n",
              "3  Rise of telemedicine and its Impact on Livelih...   \n",
              "4  Rise of telemedicine and its Impact on Livelih...   \n",
              "\n",
              "                                             content  \n",
              "0   Telemedicine, the use of technology to diagno...  \n",
              "1   The rise of e-health, or the use of electroni...  \n",
              "2    2020 was the year the world was ravaged by t...  \n",
              "3   “More gains on quality, affordability and acc...  \n",
              "4   “More gains on quality, affordability and acc...  "
            ],
            "text/html": [
              "\n",
              "  <div id=\"df-87756738-7da9-4d20-817a-379561fb38aa\" class=\"colab-df-container\">\n",
              "    <div>\n",
              "<style scoped>\n",
              "    .dataframe tbody tr th:only-of-type {\n",
              "        vertical-align: middle;\n",
              "    }\n",
              "\n",
              "    .dataframe tbody tr th {\n",
              "        vertical-align: top;\n",
              "    }\n",
              "\n",
              "    .dataframe thead th {\n",
              "        text-align: right;\n",
              "    }\n",
              "</style>\n",
              "<table border=\"1\" class=\"dataframe\">\n",
              "  <thead>\n",
              "    <tr style=\"text-align: right;\">\n",
              "      <th></th>\n",
              "      <th>title_name</th>\n",
              "      <th>content</th>\n",
              "    </tr>\n",
              "  </thead>\n",
              "  <tbody>\n",
              "    <tr>\n",
              "      <th>0</th>\n",
              "      <td>Rise of telemedicine and its Impact on Livelih...</td>\n",
              "      <td>Telemedicine, the use of technology to diagno...</td>\n",
              "    </tr>\n",
              "    <tr>\n",
              "      <th>1</th>\n",
              "      <td>Rise of e-health and its impact on humans by t...</td>\n",
              "      <td>The rise of e-health, or the use of electroni...</td>\n",
              "    </tr>\n",
              "    <tr>\n",
              "      <th>2</th>\n",
              "      <td>Rise of e-health and its impact on humans by t...</td>\n",
              "      <td>2020 was the year the world was ravaged by t...</td>\n",
              "    </tr>\n",
              "    <tr>\n",
              "      <th>3</th>\n",
              "      <td>Rise of telemedicine and its Impact on Livelih...</td>\n",
              "      <td>“More gains on quality, affordability and acc...</td>\n",
              "    </tr>\n",
              "    <tr>\n",
              "      <th>4</th>\n",
              "      <td>Rise of telemedicine and its Impact on Livelih...</td>\n",
              "      <td>“More gains on quality, affordability and acc...</td>\n",
              "    </tr>\n",
              "  </tbody>\n",
              "</table>\n",
              "</div>\n",
              "    <div class=\"colab-df-buttons\">\n",
              "\n",
              "  <div class=\"colab-df-container\">\n",
              "    <button class=\"colab-df-convert\" onclick=\"convertToInteractive('df-87756738-7da9-4d20-817a-379561fb38aa')\"\n",
              "            title=\"Convert this dataframe to an interactive table.\"\n",
              "            style=\"display:none;\">\n",
              "\n",
              "  <svg xmlns=\"http://www.w3.org/2000/svg\" height=\"24px\" viewBox=\"0 -960 960 960\">\n",
              "    <path d=\"M120-120v-720h720v720H120Zm60-500h600v-160H180v160Zm220 220h160v-160H400v160Zm0 220h160v-160H400v160ZM180-400h160v-160H180v160Zm440 0h160v-160H620v160ZM180-180h160v-160H180v160Zm440 0h160v-160H620v160Z\"/>\n",
              "  </svg>\n",
              "    </button>\n",
              "\n",
              "  <style>\n",
              "    .colab-df-container {\n",
              "      display:flex;\n",
              "      gap: 12px;\n",
              "    }\n",
              "\n",
              "    .colab-df-convert {\n",
              "      background-color: #E8F0FE;\n",
              "      border: none;\n",
              "      border-radius: 50%;\n",
              "      cursor: pointer;\n",
              "      display: none;\n",
              "      fill: #1967D2;\n",
              "      height: 32px;\n",
              "      padding: 0 0 0 0;\n",
              "      width: 32px;\n",
              "    }\n",
              "\n",
              "    .colab-df-convert:hover {\n",
              "      background-color: #E2EBFA;\n",
              "      box-shadow: 0px 1px 2px rgba(60, 64, 67, 0.3), 0px 1px 3px 1px rgba(60, 64, 67, 0.15);\n",
              "      fill: #174EA6;\n",
              "    }\n",
              "\n",
              "    .colab-df-buttons div {\n",
              "      margin-bottom: 4px;\n",
              "    }\n",
              "\n",
              "    [theme=dark] .colab-df-convert {\n",
              "      background-color: #3B4455;\n",
              "      fill: #D2E3FC;\n",
              "    }\n",
              "\n",
              "    [theme=dark] .colab-df-convert:hover {\n",
              "      background-color: #434B5C;\n",
              "      box-shadow: 0px 1px 3px 1px rgba(0, 0, 0, 0.15);\n",
              "      filter: drop-shadow(0px 1px 2px rgba(0, 0, 0, 0.3));\n",
              "      fill: #FFFFFF;\n",
              "    }\n",
              "  </style>\n",
              "\n",
              "    <script>\n",
              "      const buttonEl =\n",
              "        document.querySelector('#df-87756738-7da9-4d20-817a-379561fb38aa button.colab-df-convert');\n",
              "      buttonEl.style.display =\n",
              "        google.colab.kernel.accessAllowed ? 'block' : 'none';\n",
              "\n",
              "      async function convertToInteractive(key) {\n",
              "        const element = document.querySelector('#df-87756738-7da9-4d20-817a-379561fb38aa');\n",
              "        const dataTable =\n",
              "          await google.colab.kernel.invokeFunction('convertToInteractive',\n",
              "                                                    [key], {});\n",
              "        if (!dataTable) return;\n",
              "\n",
              "        const docLinkHtml = 'Like what you see? Visit the ' +\n",
              "          '<a target=\"_blank\" href=https://colab.research.google.com/notebooks/data_table.ipynb>data table notebook</a>'\n",
              "          + ' to learn more about interactive tables.';\n",
              "        element.innerHTML = '';\n",
              "        dataTable['output_type'] = 'display_data';\n",
              "        await google.colab.output.renderOutput(dataTable, element);\n",
              "        const docLink = document.createElement('div');\n",
              "        docLink.innerHTML = docLinkHtml;\n",
              "        element.appendChild(docLink);\n",
              "      }\n",
              "    </script>\n",
              "  </div>\n",
              "\n",
              "\n",
              "<div id=\"df-3cbe36ab-6692-4b17-bfdc-06e21b05c853\">\n",
              "  <button class=\"colab-df-quickchart\" onclick=\"quickchart('df-3cbe36ab-6692-4b17-bfdc-06e21b05c853')\"\n",
              "            title=\"Suggest charts.\"\n",
              "            style=\"display:none;\">\n",
              "\n",
              "<svg xmlns=\"http://www.w3.org/2000/svg\" height=\"24px\"viewBox=\"0 0 24 24\"\n",
              "     width=\"24px\">\n",
              "    <g>\n",
              "        <path d=\"M19 3H5c-1.1 0-2 .9-2 2v14c0 1.1.9 2 2 2h14c1.1 0 2-.9 2-2V5c0-1.1-.9-2-2-2zM9 17H7v-7h2v7zm4 0h-2V7h2v10zm4 0h-2v-4h2v4z\"/>\n",
              "    </g>\n",
              "</svg>\n",
              "  </button>\n",
              "\n",
              "<style>\n",
              "  .colab-df-quickchart {\n",
              "    background-color: #E8F0FE;\n",
              "    border: none;\n",
              "    border-radius: 50%;\n",
              "    cursor: pointer;\n",
              "    display: none;\n",
              "    fill: #1967D2;\n",
              "    height: 32px;\n",
              "    padding: 0 0 0 0;\n",
              "    width: 32px;\n",
              "  }\n",
              "\n",
              "  .colab-df-quickchart:hover {\n",
              "    background-color: #E2EBFA;\n",
              "    box-shadow: 0px 1px 2px rgba(60, 64, 67, 0.3), 0px 1px 3px 1px rgba(60, 64, 67, 0.15);\n",
              "    fill: #174EA6;\n",
              "  }\n",
              "\n",
              "  [theme=dark] .colab-df-quickchart {\n",
              "    background-color: #3B4455;\n",
              "    fill: #D2E3FC;\n",
              "  }\n",
              "\n",
              "  [theme=dark] .colab-df-quickchart:hover {\n",
              "    background-color: #434B5C;\n",
              "    box-shadow: 0px 1px 3px 1px rgba(0, 0, 0, 0.15);\n",
              "    filter: drop-shadow(0px 1px 2px rgba(0, 0, 0, 0.3));\n",
              "    fill: #FFFFFF;\n",
              "  }\n",
              "</style>\n",
              "\n",
              "  <script>\n",
              "    async function quickchart(key) {\n",
              "      const charts = await google.colab.kernel.invokeFunction(\n",
              "          'suggestCharts', [key], {});\n",
              "    }\n",
              "    (() => {\n",
              "      let quickchartButtonEl =\n",
              "        document.querySelector('#df-3cbe36ab-6692-4b17-bfdc-06e21b05c853 button');\n",
              "      quickchartButtonEl.style.display =\n",
              "        google.colab.kernel.accessAllowed ? 'block' : 'none';\n",
              "    })();\n",
              "  </script>\n",
              "</div>\n",
              "    </div>\n",
              "  </div>\n"
            ]
          },
          "metadata": {},
          "execution_count": 251
        }
      ]
    },
    {
      "cell_type": "code",
      "source": [
        "df.shape"
      ],
      "metadata": {
        "colab": {
          "base_uri": "https://localhost:8080/"
        },
        "id": "177i1wrNUmik",
        "outputId": "519fdb4c-537e-4545-de15-81969a85a053"
      },
      "execution_count": null,
      "outputs": [
        {
          "output_type": "execute_result",
          "data": {
            "text/plain": [
              "(114, 2)"
            ]
          },
          "metadata": {},
          "execution_count": 252
        }
      ]
    },
    {
      "cell_type": "code",
      "source": [
        "# converting the text into lowercase\n",
        "def con_to_lower(text):\n",
        "  return text.lower()"
      ],
      "metadata": {
        "id": "n5Gqtqk9Zpy_"
      },
      "execution_count": null,
      "outputs": []
    },
    {
      "cell_type": "code",
      "source": [
        "df['content'] =  df['content'].apply(con_to_lower)"
      ],
      "metadata": {
        "id": "d6sFieT6Z5tn"
      },
      "execution_count": null,
      "outputs": []
    },
    {
      "cell_type": "code",
      "source": [
        "# removing punctuation\n",
        "import string\n",
        "def remove_punc(text):\n",
        "  return text.translate(str.maketrans('', '',string.punctuation))\n"
      ],
      "metadata": {
        "id": "ZN_trIdnUmlc"
      },
      "execution_count": null,
      "outputs": []
    },
    {
      "cell_type": "code",
      "source": [
        "df['content'] =  df['content'].apply(remove_punc)"
      ],
      "metadata": {
        "id": "KPwDe2KsYsbX"
      },
      "execution_count": null,
      "outputs": []
    },
    {
      "cell_type": "code",
      "source": [
        "df['content'][9]"
      ],
      "metadata": {
        "colab": {
          "base_uri": "https://localhost:8080/",
          "height": 157
        },
        "id": "WCZDtlhWm4EB",
        "outputId": "74939cf3-d82e-4772-bda7-ac38603b2eb2"
      },
      "execution_count": null,
      "outputs": [
        {
          "output_type": "execute_result",
          "data": {
            "text/plain": [
              "' “society can exist without marketing but marketing cannot exist without society” marketing is the management process of anticipating identifying and satisfying customers’ requirements the various conventional marketing tools are advertising branding direct marketing sales promotion publicity and public relations critics acknowledge that marketing has legitimate uses in as much as it connects goods and services to consumers who desire them however some aspects of marketing especially promotion and advertisements are subject to criticism they argue that product promotion is an attempt by the goods and service providers to influence demand advertising has become such an inextricable part of our lives that one cannot imagine life without it although we hardly ever notice advertisements leave an indelible mark on our minds especially on vulnerable groups like children and adolescents   the commensuration of the two words raises eyebrows in marketing and society as it is highly debatable on the one hand society thrives on companies’ marketing efforts while another school of thought argues that marketing makes society more materialistic today striking a balance between the two is the challenge marketers face ethical expectations are a vital part of the business environment society expects businesses to be honest and desires corporate executives at all levels to apply ethical principles in other words guidelines as to what is right and wrong fair and unfair and morally correct when they make business decisions for better or worse marketing is everywhere with the allure of new products big promises and hope for something new or different as we turn on the television or scroll through social media feeds we will find it hard to avoid someone trying to sell us something while advertising and marketing share information and tell us what is new it does so to persuade rather than educate so their influence can sometimes be more harmful than positive   the debate about the positives and negatives of advertising is a bit like the infamous chicken or egg question some people claim that marketing causes adverse effects while others argue that it merely reflects what is already happening in the culture for all the positive potential of marketing the reality is that it frequently influences society in negative ways one negative aspect of marketing is its potential to feed into unrealistic expectations breed discontentment and influence our thought processes in ways beyond our control materialism workaholism unhealthy lifestyle habits alcoholism politics and unrealistic views negatively shape our culture and impact the most vulnerable   according to research marketing has become increasingly hostile in the modern television era consumers are often disturbed by advertisements  marketing and negative campaign ads tend to fuel a vicious cycle where both sides fling ads back and forth in a futile narcissistic tantrumlike attempt to make their opponents look worse and worse while making themselves look better marketing aims to present a product in the best light possible there is some leeway in the creative process the problem arises when dramatization crosses the line into falsely representing a product hefty fines can result from false advertising when levied by the authorities marketing and advertising are ingrained in the modern culture from children’s programs on saturday mornings to talk shows and primetime tv advertising even invades movies through product placement marketing influences how people feel about themselves and often turns out negative widespread concern exists about the potential effects of media portrayals of drinking alcohol product placements and alcohol advertising on alcohol consumption and problems among young people television radio film and popular music are often identified as potential sources through which young people learn about alcohol and as possible influences on young people’s drinking and drinking problems even though campaign advertising has been a part of politics scholars are still conflicted over the effects of different advertising strategies as a result the literature on political advertising is vast and multifaceted conventional wisdom holds that political advertising in general is harmful to democracy further the adverse effects of advertising on teenagers include increased cigarette and alcohol use obesity poor nutrition and eating disorders according to pediatrics the official journal of the american academy of pediatrics advertisers are traditionally using techniques to which children and adolescents are more susceptible such as product placement in tv shows and tieins between movies and fastfood restaurants to mention a few it’s all kid’s play anyway with today’s youngsters having profound influence over purchases in all product categories many marketing evils lure people into buying even when not required however the picture of the relationship between marketing and society is contested marketing has often been criticized for encouraging excessive consumption selfindulgent lifestyle and producing a consumer culture where products and services are the core of social identity at the expense of other ‘traditional’ values   just as in an underdeveloped economy marketing can be an avenue for publicity of indigenous products and services thereby generating income similarly in developing and developed economies where competition for the share of the customer’s pocket is high marketing can lead to attitudinal and lifestyle changes and problems free collectible coupons or tattoos inside chips packets and other such advertising gimmicks and tactics do not add any value to the product being offered but only lure consumers into buying a product they otherwise may not have purchased leading to another group of people who entice these students to enroll for a weight reduction program sex is used in commercials to sell everything from beer to shampoo to cars new research shows that teenagers’ exposure to sexual content in the media may be responsible for the earlier onset of sexual intercourse or other sexual activities leading to an increased number of hivpositive cases alcohol producers spend  57 billionper year on advertising and promotions research has found that adolescent drinkers are more likely to have been exposed to alcohol advertising studies confirm a direct link between junk food advertisements and obesity among adolescents as we move ahead with technology and change the marketing strategy with the growing consumerism it is vital to be cautious our cautiousness can only decide what happens in the future regarding marketing blackcoffer insights 45 malyaj kaushal nitie mumbai '"
            ],
            "application/vnd.google.colaboratory.intrinsic+json": {
              "type": "string"
            }
          },
          "metadata": {},
          "execution_count": 258
        }
      ]
    },
    {
      "cell_type": "code",
      "source": [
        "import re            #using regular expression\n",
        "def clean_text(text):\n",
        "  text = re.sub('[”“–’‘]','',text)\n",
        "  text = re.sub('\\xa0','',text)\n",
        "  return text\n"
      ],
      "metadata": {
        "id": "V41plnO1cB9Q"
      },
      "execution_count": null,
      "outputs": []
    },
    {
      "cell_type": "code",
      "source": [
        "df['content'] = df['content'].apply(clean_text)"
      ],
      "metadata": {
        "id": "fvEv4M2jgtFX"
      },
      "execution_count": null,
      "outputs": []
    },
    {
      "cell_type": "code",
      "source": [
        "#tokenization\n",
        "import nltk\n",
        "nltk.download('punkt')\n",
        "from nltk.tokenize import word_tokenize\n",
        "def tokenization(text):\n",
        "  return word_tokenize(text)\n"
      ],
      "metadata": {
        "id": "JLT8CsaUcYMW",
        "colab": {
          "base_uri": "https://localhost:8080/"
        },
        "outputId": "44f31946-ad28-42d3-8f03-524938f54fc1"
      },
      "execution_count": null,
      "outputs": [
        {
          "output_type": "stream",
          "name": "stderr",
          "text": [
            "[nltk_data] Downloading package punkt to /root/nltk_data...\n",
            "[nltk_data]   Package punkt is already up-to-date!\n"
          ]
        }
      ]
    },
    {
      "cell_type": "code",
      "source": [
        "df['content'] = df['content'].apply(tokenization)\n"
      ],
      "metadata": {
        "id": "_a4lEk3IcYPK"
      },
      "execution_count": null,
      "outputs": []
    },
    {
      "cell_type": "code",
      "source": [],
      "metadata": {
        "id": "vMQpIHAbnvK2"
      },
      "execution_count": null,
      "outputs": []
    },
    {
      "cell_type": "code",
      "source": [
        "# removal of stopwords\n",
        "from nltk.corpus import stopwords\n",
        "nltk.download('stopwords')\n",
        "stop_words = stopwords.words('english')\n",
        "def remove_stopwords(text):\n",
        "  return [word for word in text if not word in stop_words]"
      ],
      "metadata": {
        "id": "5UefJnYRYsd9",
        "colab": {
          "base_uri": "https://localhost:8080/"
        },
        "outputId": "c8a56cc0-202d-4c3d-a1d2-0e0faef9b4ee"
      },
      "execution_count": null,
      "outputs": [
        {
          "output_type": "stream",
          "name": "stderr",
          "text": [
            "[nltk_data] Downloading package stopwords to /root/nltk_data...\n",
            "[nltk_data]   Package stopwords is already up-to-date!\n"
          ]
        }
      ]
    },
    {
      "cell_type": "code",
      "source": [
        "df['content']=df['content'].apply(remove_stopwords)"
      ],
      "metadata": {
        "id": "QJmIHjaTcXmi"
      },
      "execution_count": null,
      "outputs": []
    },
    {
      "cell_type": "code",
      "source": [],
      "metadata": {
        "id": "_Gfjq2l4YshG"
      },
      "execution_count": null,
      "outputs": []
    },
    {
      "cell_type": "code",
      "source": [
        "#calculating the positive score\n",
        "positive_score = []\n",
        "for i in df['content']:\n",
        "  with open(\"positive-words.txt\",\"r\") as pos:\n",
        "    posi_words = pos.read().split(\"\\n\")\n",
        "  pos_count = \" \".join ([w for w in i if w in posi_words])\n",
        "  pos_count=pos_count.split(\" \")\n",
        "  Positive_score=len(pos_count)\n",
        "  positive_score.append(Positive_score)"
      ],
      "metadata": {
        "id": "fVAzzdqio9Kf"
      },
      "execution_count": null,
      "outputs": []
    },
    {
      "cell_type": "code",
      "source": [],
      "metadata": {
        "id": "JhY_pHGTo9Nd"
      },
      "execution_count": null,
      "outputs": []
    },
    {
      "cell_type": "code",
      "source": [],
      "metadata": {
        "id": "39i0ooSto9QV"
      },
      "execution_count": null,
      "outputs": []
    },
    {
      "cell_type": "code",
      "source": [
        "# calculating the negative score\n",
        "negative_score = []\n",
        "for i in df['content']:\n",
        "  with open(\"negative-words.txt\",\"r\",encoding = \"ISO-8859-1\") as neg:\n",
        "    negwords = neg.read().split(\"\\n\")\n",
        "  neg_count = \" \".join ([w for w in i if w in negwords])\n",
        "  neg_count=neg_count.split(\" \")\n",
        "  Negative_score=len(neg_count)\n",
        "  negative_score.append(Negative_score)\n"
      ],
      "metadata": {
        "id": "CQ_ber54spew"
      },
      "execution_count": null,
      "outputs": []
    },
    {
      "cell_type": "code",
      "source": [],
      "metadata": {
        "id": "KWn6bWXgsphm"
      },
      "execution_count": null,
      "outputs": []
    },
    {
      "cell_type": "code",
      "source": [
        "# for calculating polarity and Subjectivity\n",
        "Polarity = []\n",
        "Subjectivity = []\n",
        "from textblob import TextBlob\n",
        "for i in text_content:\n",
        "    sentiment = TextBlob(i).sentiment\n",
        "\n",
        "    Polarity.append(sentiment.polarity)\n",
        "    Subjectivity.append(sentiment.subjectivity)"
      ],
      "metadata": {
        "id": "ciyTVHa9sp1f"
      },
      "execution_count": null,
      "outputs": []
    },
    {
      "cell_type": "code",
      "source": [],
      "metadata": {
        "id": "HgPy7YMPo9S8"
      },
      "execution_count": null,
      "outputs": []
    },
    {
      "cell_type": "code",
      "source": [
        "#calculating the average sentence length\n",
        "average_length = []\n",
        "for i in text_content:\n",
        "  avg_len = len(i.replace(' ',''))/len(re.split(r'[?!.]', i))\n",
        "  average_length.append(avg_len)"
      ],
      "metadata": {
        "id": "eX0vK8Ymo9Vu"
      },
      "execution_count": null,
      "outputs": []
    },
    {
      "cell_type": "code",
      "source": [],
      "metadata": {
        "id": "XioGHf9X9RJb"
      },
      "execution_count": null,
      "outputs": []
    },
    {
      "cell_type": "code",
      "source": [
        "#calculating the percentage of complex words\n",
        "PER_COMPLEX_WORDS = []\n",
        "for word in text_content:\n",
        "    count = 0\n",
        "    vowels = \"AEIOUYaeiouy\"\n",
        "    if word[0] in vowels:\n",
        "        count += 1\n",
        "    for index in range(1, len(word)):\n",
        "        if word[index] in vowels and word[index - 1] not in vowels:\n",
        "            count += 1\n",
        "            if word.endswith(\"es\"or \"ed\"):\n",
        "                count -= 1\n",
        "    if count == 0:\n",
        "        count += 1\n",
        "    PER_COMPLEX_WORDS.append((count*100)/len(word))\n"
      ],
      "metadata": {
        "id": "OFLie55Y9R3D"
      },
      "execution_count": null,
      "outputs": []
    },
    {
      "cell_type": "code",
      "source": [],
      "metadata": {
        "id": "QXla7Sz3o9d_"
      },
      "execution_count": null,
      "outputs": []
    },
    {
      "cell_type": "code",
      "source": [
        "pip install textstat"
      ],
      "metadata": {
        "colab": {
          "base_uri": "https://localhost:8080/"
        },
        "id": "G8nOzbH3BKSi",
        "outputId": "f665bf58-24e8-4b80-e3ee-b16bdf345df7"
      },
      "execution_count": null,
      "outputs": [
        {
          "output_type": "stream",
          "name": "stdout",
          "text": [
            "Requirement already satisfied: textstat in /usr/local/lib/python3.10/dist-packages (0.7.3)\n",
            "Requirement already satisfied: pyphen in /usr/local/lib/python3.10/dist-packages (from textstat) (0.14.0)\n"
          ]
        }
      ]
    },
    {
      "cell_type": "code",
      "source": [
        "# calculating fog index\n",
        "import textstat\n",
        "fog_index = []\n",
        "for i in text_content:\n",
        "  FOG_INDEX=(textstat.gunning_fog(i))\n",
        "  fog_index.append(FOG_INDEX)\n",
        "\n"
      ],
      "metadata": {
        "id": "qoOjL0ntAYDC"
      },
      "execution_count": null,
      "outputs": []
    },
    {
      "cell_type": "code",
      "source": [],
      "metadata": {
        "id": "E12Wj2tzEbxM"
      },
      "execution_count": null,
      "outputs": []
    },
    {
      "cell_type": "code",
      "source": [
        "# average number of words per sentence\n",
        "avg_num_of_words = []\n",
        "for i in text_content:\n",
        "  n = len(i.replace(' ',''))/len(i.split(' '))\n",
        "  avg_num_of_words.append(n)"
      ],
      "metadata": {
        "id": "K7dlEuCFAYJK"
      },
      "execution_count": null,
      "outputs": []
    },
    {
      "cell_type": "code",
      "source": [
        "#complex word count\n",
        "complex_word_count = []\n",
        "for word in text_content:\n",
        "    count = 0\n",
        "    vowels = \"AEIOUYaeiouy\"\n",
        "    if word[0] in vowels:\n",
        "        count += 1\n",
        "    for index in range(1, len(word)):\n",
        "        if word[index] in vowels and word[index - 1] not in vowels:\n",
        "            count += 1\n",
        "            if word.endswith(\"es\"or \"ed\"):\n",
        "                count -= 1\n",
        "    if count == 0:\n",
        "        count += 1\n",
        "    complex_word_count.append(count)\n"
      ],
      "metadata": {
        "id": "ZQpRYGkNAYMO"
      },
      "execution_count": null,
      "outputs": []
    },
    {
      "cell_type": "code",
      "source": [],
      "metadata": {
        "id": "oNefv6-rAYPL"
      },
      "execution_count": null,
      "outputs": []
    },
    {
      "cell_type": "code",
      "source": [
        "#word count\n",
        "word_count = []\n",
        "for i in text_content:\n",
        "  word_count.append(len(i.split(' ')))"
      ],
      "metadata": {
        "id": "0UGXA8DiAYSQ"
      },
      "execution_count": null,
      "outputs": []
    },
    {
      "cell_type": "code",
      "source": [],
      "metadata": {
        "id": "WbOnIK4KKzBo"
      },
      "execution_count": null,
      "outputs": []
    },
    {
      "cell_type": "code",
      "source": [
        "#syllable per word\n",
        "syll = []\n",
        "for i in text_content:\n",
        "  word=i.replace(' ','')\n",
        "  syllable_count=0\n",
        "  for w in word:\n",
        "    if(w=='a' or w=='e' or w=='i' or w=='o' or w=='y' or w=='u' or w=='A' or w=='E' or w=='I' or w=='O' or w=='U' or w=='Y'):\n",
        "      syllable_count=syllable_count+1\n",
        "  syll.append(syllable_count/len(i.split()))\n",
        "\n"
      ],
      "metadata": {
        "id": "J_EaSAFuKzEM"
      },
      "execution_count": null,
      "outputs": []
    },
    {
      "cell_type": "code",
      "source": [],
      "metadata": {
        "id": "b6ph5rs5KzJe"
      },
      "execution_count": null,
      "outputs": []
    },
    {
      "cell_type": "code",
      "source": [
        "#personal pronouns\n",
        "personal_pronouns = []\n",
        "for text in text_content:\n",
        "    count = 0\n",
        "    sentences = nltk.sent_tokenize(text)\n",
        "    for sentence in sentences:\n",
        "        words = nltk.word_tokenize(sentence)\n",
        "        tagged = nltk.pos_tag(words)\n",
        "        for (word, tag) in tagged:\n",
        "            if tag == 'PRP': # If the word is a proper noun\n",
        "                count = count + 1\n",
        "\n",
        "    personal_pronouns.append(count)"
      ],
      "metadata": {
        "id": "djds_BzHKzOy"
      },
      "execution_count": null,
      "outputs": []
    },
    {
      "cell_type": "code",
      "source": [],
      "metadata": {
        "id": "H4cM4cVOKzQ5"
      },
      "execution_count": null,
      "outputs": []
    },
    {
      "cell_type": "code",
      "source": [
        "#average word length\n",
        "avg_word_len = []\n",
        "for i in text_content:\n",
        "  n = len(i.replace(' ',''))/len(i.split(' '))\n",
        "  avg_word_len.append(n)"
      ],
      "metadata": {
        "id": "NOA_BUvcKzyt"
      },
      "execution_count": null,
      "outputs": []
    },
    {
      "cell_type": "code",
      "source": [],
      "metadata": {
        "id": "MXmZ-M8eKz1a"
      },
      "execution_count": null,
      "outputs": []
    },
    {
      "cell_type": "code",
      "source": [
        "output = pd.read_excel('Output Data Structure.xlsx')"
      ],
      "metadata": {
        "id": "H994ofQTKz5V"
      },
      "execution_count": null,
      "outputs": []
    },
    {
      "cell_type": "code",
      "source": [
        "output.head(0)"
      ],
      "metadata": {
        "colab": {
          "base_uri": "https://localhost:8080/",
          "height": 139
        },
        "id": "sOb7NNMKOOaq",
        "outputId": "17992053-ceaa-4e4f-9c8d-1a803181c2c7"
      },
      "execution_count": null,
      "outputs": [
        {
          "output_type": "execute_result",
          "data": {
            "text/plain": [
              "Empty DataFrame\n",
              "Columns: [URL_ID, URL, POSITIVE SCORE, NEGATIVE SCORE, POLARITY SCORE, SUBJECTIVITY SCORE, AVG SENTENCE LENGTH, PERCENTAGE OF COMPLEX WORDS, FOG INDEX, AVG NUMBER OF WORDS PER SENTENCE, COMPLEX WORD COUNT, WORD COUNT, SYLLABLE PER WORD, PERSONAL PRONOUNS, AVG WORD LENGTH]\n",
              "Index: []"
            ],
            "text/html": [
              "\n",
              "  <div id=\"df-a8b7f675-565e-4dc2-a146-29a07d3ab501\" class=\"colab-df-container\">\n",
              "    <div>\n",
              "<style scoped>\n",
              "    .dataframe tbody tr th:only-of-type {\n",
              "        vertical-align: middle;\n",
              "    }\n",
              "\n",
              "    .dataframe tbody tr th {\n",
              "        vertical-align: top;\n",
              "    }\n",
              "\n",
              "    .dataframe thead th {\n",
              "        text-align: right;\n",
              "    }\n",
              "</style>\n",
              "<table border=\"1\" class=\"dataframe\">\n",
              "  <thead>\n",
              "    <tr style=\"text-align: right;\">\n",
              "      <th></th>\n",
              "      <th>URL_ID</th>\n",
              "      <th>URL</th>\n",
              "      <th>POSITIVE SCORE</th>\n",
              "      <th>NEGATIVE SCORE</th>\n",
              "      <th>POLARITY SCORE</th>\n",
              "      <th>SUBJECTIVITY SCORE</th>\n",
              "      <th>AVG SENTENCE LENGTH</th>\n",
              "      <th>PERCENTAGE OF COMPLEX WORDS</th>\n",
              "      <th>FOG INDEX</th>\n",
              "      <th>AVG NUMBER OF WORDS PER SENTENCE</th>\n",
              "      <th>COMPLEX WORD COUNT</th>\n",
              "      <th>WORD COUNT</th>\n",
              "      <th>SYLLABLE PER WORD</th>\n",
              "      <th>PERSONAL PRONOUNS</th>\n",
              "      <th>AVG WORD LENGTH</th>\n",
              "    </tr>\n",
              "  </thead>\n",
              "  <tbody>\n",
              "  </tbody>\n",
              "</table>\n",
              "</div>\n",
              "    <div class=\"colab-df-buttons\">\n",
              "\n",
              "  <div class=\"colab-df-container\">\n",
              "    <button class=\"colab-df-convert\" onclick=\"convertToInteractive('df-a8b7f675-565e-4dc2-a146-29a07d3ab501')\"\n",
              "            title=\"Convert this dataframe to an interactive table.\"\n",
              "            style=\"display:none;\">\n",
              "\n",
              "  <svg xmlns=\"http://www.w3.org/2000/svg\" height=\"24px\" viewBox=\"0 -960 960 960\">\n",
              "    <path d=\"M120-120v-720h720v720H120Zm60-500h600v-160H180v160Zm220 220h160v-160H400v160Zm0 220h160v-160H400v160ZM180-400h160v-160H180v160Zm440 0h160v-160H620v160ZM180-180h160v-160H180v160Zm440 0h160v-160H620v160Z\"/>\n",
              "  </svg>\n",
              "    </button>\n",
              "\n",
              "  <style>\n",
              "    .colab-df-container {\n",
              "      display:flex;\n",
              "      gap: 12px;\n",
              "    }\n",
              "\n",
              "    .colab-df-convert {\n",
              "      background-color: #E8F0FE;\n",
              "      border: none;\n",
              "      border-radius: 50%;\n",
              "      cursor: pointer;\n",
              "      display: none;\n",
              "      fill: #1967D2;\n",
              "      height: 32px;\n",
              "      padding: 0 0 0 0;\n",
              "      width: 32px;\n",
              "    }\n",
              "\n",
              "    .colab-df-convert:hover {\n",
              "      background-color: #E2EBFA;\n",
              "      box-shadow: 0px 1px 2px rgba(60, 64, 67, 0.3), 0px 1px 3px 1px rgba(60, 64, 67, 0.15);\n",
              "      fill: #174EA6;\n",
              "    }\n",
              "\n",
              "    .colab-df-buttons div {\n",
              "      margin-bottom: 4px;\n",
              "    }\n",
              "\n",
              "    [theme=dark] .colab-df-convert {\n",
              "      background-color: #3B4455;\n",
              "      fill: #D2E3FC;\n",
              "    }\n",
              "\n",
              "    [theme=dark] .colab-df-convert:hover {\n",
              "      background-color: #434B5C;\n",
              "      box-shadow: 0px 1px 3px 1px rgba(0, 0, 0, 0.15);\n",
              "      filter: drop-shadow(0px 1px 2px rgba(0, 0, 0, 0.3));\n",
              "      fill: #FFFFFF;\n",
              "    }\n",
              "  </style>\n",
              "\n",
              "    <script>\n",
              "      const buttonEl =\n",
              "        document.querySelector('#df-a8b7f675-565e-4dc2-a146-29a07d3ab501 button.colab-df-convert');\n",
              "      buttonEl.style.display =\n",
              "        google.colab.kernel.accessAllowed ? 'block' : 'none';\n",
              "\n",
              "      async function convertToInteractive(key) {\n",
              "        const element = document.querySelector('#df-a8b7f675-565e-4dc2-a146-29a07d3ab501');\n",
              "        const dataTable =\n",
              "          await google.colab.kernel.invokeFunction('convertToInteractive',\n",
              "                                                    [key], {});\n",
              "        if (!dataTable) return;\n",
              "\n",
              "        const docLinkHtml = 'Like what you see? Visit the ' +\n",
              "          '<a target=\"_blank\" href=https://colab.research.google.com/notebooks/data_table.ipynb>data table notebook</a>'\n",
              "          + ' to learn more about interactive tables.';\n",
              "        element.innerHTML = '';\n",
              "        dataTable['output_type'] = 'display_data';\n",
              "        await google.colab.output.renderOutput(dataTable, element);\n",
              "        const docLink = document.createElement('div');\n",
              "        docLink.innerHTML = docLinkHtml;\n",
              "        element.appendChild(docLink);\n",
              "      }\n",
              "    </script>\n",
              "  </div>\n",
              "\n",
              "\n",
              "<div id=\"df-5bd050be-a8b2-46b9-8c43-df57d0f7f1ac\">\n",
              "  <button class=\"colab-df-quickchart\" onclick=\"quickchart('df-5bd050be-a8b2-46b9-8c43-df57d0f7f1ac')\"\n",
              "            title=\"Suggest charts.\"\n",
              "            style=\"display:none;\">\n",
              "\n",
              "<svg xmlns=\"http://www.w3.org/2000/svg\" height=\"24px\"viewBox=\"0 0 24 24\"\n",
              "     width=\"24px\">\n",
              "    <g>\n",
              "        <path d=\"M19 3H5c-1.1 0-2 .9-2 2v14c0 1.1.9 2 2 2h14c1.1 0 2-.9 2-2V5c0-1.1-.9-2-2-2zM9 17H7v-7h2v7zm4 0h-2V7h2v10zm4 0h-2v-4h2v4z\"/>\n",
              "    </g>\n",
              "</svg>\n",
              "  </button>\n",
              "\n",
              "<style>\n",
              "  .colab-df-quickchart {\n",
              "    background-color: #E8F0FE;\n",
              "    border: none;\n",
              "    border-radius: 50%;\n",
              "    cursor: pointer;\n",
              "    display: none;\n",
              "    fill: #1967D2;\n",
              "    height: 32px;\n",
              "    padding: 0 0 0 0;\n",
              "    width: 32px;\n",
              "  }\n",
              "\n",
              "  .colab-df-quickchart:hover {\n",
              "    background-color: #E2EBFA;\n",
              "    box-shadow: 0px 1px 2px rgba(60, 64, 67, 0.3), 0px 1px 3px 1px rgba(60, 64, 67, 0.15);\n",
              "    fill: #174EA6;\n",
              "  }\n",
              "\n",
              "  [theme=dark] .colab-df-quickchart {\n",
              "    background-color: #3B4455;\n",
              "    fill: #D2E3FC;\n",
              "  }\n",
              "\n",
              "  [theme=dark] .colab-df-quickchart:hover {\n",
              "    background-color: #434B5C;\n",
              "    box-shadow: 0px 1px 3px 1px rgba(0, 0, 0, 0.15);\n",
              "    filter: drop-shadow(0px 1px 2px rgba(0, 0, 0, 0.3));\n",
              "    fill: #FFFFFF;\n",
              "  }\n",
              "</style>\n",
              "\n",
              "  <script>\n",
              "    async function quickchart(key) {\n",
              "      const charts = await google.colab.kernel.invokeFunction(\n",
              "          'suggestCharts', [key], {});\n",
              "    }\n",
              "    (() => {\n",
              "      let quickchartButtonEl =\n",
              "        document.querySelector('#df-5bd050be-a8b2-46b9-8c43-df57d0f7f1ac button');\n",
              "      quickchartButtonEl.style.display =\n",
              "        google.colab.kernel.accessAllowed ? 'block' : 'none';\n",
              "    })();\n",
              "  </script>\n",
              "</div>\n",
              "    </div>\n",
              "  </div>\n"
            ]
          },
          "metadata": {},
          "execution_count": 279
        }
      ]
    },
    {
      "cell_type": "code",
      "source": [
        "output['POSITIVE SCORE'] = positive_score\n",
        "output['NEGATIVE SCORE'] = negative_score\n",
        "output['POLARITY SCORE'] = Polarity\n",
        "output['SUBJECTIVITY SCORE'] = Subjectivity\n",
        "output['AVG SENTENCE LENGTH'] = average_length\n",
        "output['PERCENTAGE OF COMPLEX WORDS'] = PER_COMPLEX_WORDS\n",
        "output['FOG INDEX'] = fog_index\n",
        "output['AVG NUMBER OF WORDS PER SENTENCE']  = avg_num_of_words\n",
        "output['COMPLEX WORD COUNT'] = complex_word_count\n",
        "output['WORD COUNT'] = word_count\n",
        "output['SYLLABLE PER WORD'] = syll\n",
        "output['PERSONAL PRONOUNS'] = personal_pronouns\n",
        "output['AVG WORD LENGTH'] = avg_word_len\n"
      ],
      "metadata": {
        "id": "QwAqMn11OOrH"
      },
      "execution_count": null,
      "outputs": []
    },
    {
      "cell_type": "code",
      "source": [],
      "metadata": {
        "id": "cL21JUy5Yskd"
      },
      "execution_count": null,
      "outputs": []
    },
    {
      "cell_type": "code",
      "source": [
        "# some websites in the input.xlsx file  having error\n",
        "p = 0\n",
        "for i in text_content:\n",
        "  if i == 'Data Not Available':\n",
        "    print(p)           # finding the index of links having error\n",
        "    p+=1\n",
        "  else:\n",
        "    p+=1\n",
        "\n"
      ],
      "metadata": {
        "id": "tyd7CGYv2Xh1",
        "colab": {
          "base_uri": "https://localhost:8080/"
        },
        "outputId": "de99f126-6e00-4fd9-f45d-2226582cea12"
      },
      "execution_count": null,
      "outputs": [
        {
          "output_type": "stream",
          "name": "stdout",
          "text": [
            "24\n",
            "37\n"
          ]
        }
      ]
    },
    {
      "cell_type": "code",
      "source": [
        "output.loc[[24,37],'POSITIVE SCORE':] = 'Data Not Available'"
      ],
      "metadata": {
        "id": "bejfYhNc5_1n"
      },
      "execution_count": null,
      "outputs": []
    },
    {
      "cell_type": "code",
      "source": [
        "output.head()"
      ],
      "metadata": {
        "colab": {
          "base_uri": "https://localhost:8080/",
          "height": 382
        },
        "id": "9p9Li7HUVCyc",
        "outputId": "78fb658b-6623-4ace-f0c3-2f3e54158826"
      },
      "execution_count": null,
      "outputs": [
        {
          "output_type": "execute_result",
          "data": {
            "text/plain": [
              "   URL_ID                                                URL POSITIVE SCORE  \\\n",
              "0   123.0  https://insights.blackcoffer.com/rise-of-telem...             86   \n",
              "1   321.0  https://insights.blackcoffer.com/rise-of-e-hea...             41   \n",
              "2  2345.0  https://insights.blackcoffer.com/rise-of-e-hea...             25   \n",
              "3  4321.0  https://insights.blackcoffer.com/rise-of-telem...             44   \n",
              "4   432.0  https://insights.blackcoffer.com/rise-of-telem...             44   \n",
              "\n",
              "  NEGATIVE SCORE POLARITY SCORE SUBJECTIVITY SCORE AVG SENTENCE LENGTH  \\\n",
              "0             24       0.136034            0.43728          109.321839   \n",
              "1             13       0.111801           0.615704              135.96   \n",
              "2             27       0.086835           0.459666           79.337838   \n",
              "3             27       0.139706           0.385624          110.269841   \n",
              "4             27       0.139706           0.385624          110.269841   \n",
              "\n",
              "  PERCENTAGE OF COMPLEX WORDS FOG INDEX AVG NUMBER OF WORDS PER SENTENCE  \\\n",
              "0                   30.747204     10.34                         5.712312   \n",
              "1                   30.475953     14.64                         5.526829   \n",
              "2                   28.875467      9.78                         5.416052   \n",
              "3                   29.048434     12.67                         5.647967   \n",
              "4                   29.048434     12.67                         5.647967   \n",
              "\n",
              "  COMPLEX WORD COUNT WORD COUNT SYLLABLE PER WORD PERSONAL PRONOUNS  \\\n",
              "0               3436       1665          2.298256                27   \n",
              "1               1223        615          2.253268                16   \n",
              "2               2008       1084          2.076781                13   \n",
              "3               2375       1230          2.175325                20   \n",
              "4               2375       1230          2.175325                20   \n",
              "\n",
              "  AVG WORD LENGTH  \n",
              "0        5.712312  \n",
              "1        5.526829  \n",
              "2        5.416052  \n",
              "3        5.647967  \n",
              "4        5.647967  "
            ],
            "text/html": [
              "\n",
              "  <div id=\"df-d017d256-6090-430b-afe9-babba338b5a4\" class=\"colab-df-container\">\n",
              "    <div>\n",
              "<style scoped>\n",
              "    .dataframe tbody tr th:only-of-type {\n",
              "        vertical-align: middle;\n",
              "    }\n",
              "\n",
              "    .dataframe tbody tr th {\n",
              "        vertical-align: top;\n",
              "    }\n",
              "\n",
              "    .dataframe thead th {\n",
              "        text-align: right;\n",
              "    }\n",
              "</style>\n",
              "<table border=\"1\" class=\"dataframe\">\n",
              "  <thead>\n",
              "    <tr style=\"text-align: right;\">\n",
              "      <th></th>\n",
              "      <th>URL_ID</th>\n",
              "      <th>URL</th>\n",
              "      <th>POSITIVE SCORE</th>\n",
              "      <th>NEGATIVE SCORE</th>\n",
              "      <th>POLARITY SCORE</th>\n",
              "      <th>SUBJECTIVITY SCORE</th>\n",
              "      <th>AVG SENTENCE LENGTH</th>\n",
              "      <th>PERCENTAGE OF COMPLEX WORDS</th>\n",
              "      <th>FOG INDEX</th>\n",
              "      <th>AVG NUMBER OF WORDS PER SENTENCE</th>\n",
              "      <th>COMPLEX WORD COUNT</th>\n",
              "      <th>WORD COUNT</th>\n",
              "      <th>SYLLABLE PER WORD</th>\n",
              "      <th>PERSONAL PRONOUNS</th>\n",
              "      <th>AVG WORD LENGTH</th>\n",
              "    </tr>\n",
              "  </thead>\n",
              "  <tbody>\n",
              "    <tr>\n",
              "      <th>0</th>\n",
              "      <td>123.0</td>\n",
              "      <td>https://insights.blackcoffer.com/rise-of-telem...</td>\n",
              "      <td>86</td>\n",
              "      <td>24</td>\n",
              "      <td>0.136034</td>\n",
              "      <td>0.43728</td>\n",
              "      <td>109.321839</td>\n",
              "      <td>30.747204</td>\n",
              "      <td>10.34</td>\n",
              "      <td>5.712312</td>\n",
              "      <td>3436</td>\n",
              "      <td>1665</td>\n",
              "      <td>2.298256</td>\n",
              "      <td>27</td>\n",
              "      <td>5.712312</td>\n",
              "    </tr>\n",
              "    <tr>\n",
              "      <th>1</th>\n",
              "      <td>321.0</td>\n",
              "      <td>https://insights.blackcoffer.com/rise-of-e-hea...</td>\n",
              "      <td>41</td>\n",
              "      <td>13</td>\n",
              "      <td>0.111801</td>\n",
              "      <td>0.615704</td>\n",
              "      <td>135.96</td>\n",
              "      <td>30.475953</td>\n",
              "      <td>14.64</td>\n",
              "      <td>5.526829</td>\n",
              "      <td>1223</td>\n",
              "      <td>615</td>\n",
              "      <td>2.253268</td>\n",
              "      <td>16</td>\n",
              "      <td>5.526829</td>\n",
              "    </tr>\n",
              "    <tr>\n",
              "      <th>2</th>\n",
              "      <td>2345.0</td>\n",
              "      <td>https://insights.blackcoffer.com/rise-of-e-hea...</td>\n",
              "      <td>25</td>\n",
              "      <td>27</td>\n",
              "      <td>0.086835</td>\n",
              "      <td>0.459666</td>\n",
              "      <td>79.337838</td>\n",
              "      <td>28.875467</td>\n",
              "      <td>9.78</td>\n",
              "      <td>5.416052</td>\n",
              "      <td>2008</td>\n",
              "      <td>1084</td>\n",
              "      <td>2.076781</td>\n",
              "      <td>13</td>\n",
              "      <td>5.416052</td>\n",
              "    </tr>\n",
              "    <tr>\n",
              "      <th>3</th>\n",
              "      <td>4321.0</td>\n",
              "      <td>https://insights.blackcoffer.com/rise-of-telem...</td>\n",
              "      <td>44</td>\n",
              "      <td>27</td>\n",
              "      <td>0.139706</td>\n",
              "      <td>0.385624</td>\n",
              "      <td>110.269841</td>\n",
              "      <td>29.048434</td>\n",
              "      <td>12.67</td>\n",
              "      <td>5.647967</td>\n",
              "      <td>2375</td>\n",
              "      <td>1230</td>\n",
              "      <td>2.175325</td>\n",
              "      <td>20</td>\n",
              "      <td>5.647967</td>\n",
              "    </tr>\n",
              "    <tr>\n",
              "      <th>4</th>\n",
              "      <td>432.0</td>\n",
              "      <td>https://insights.blackcoffer.com/rise-of-telem...</td>\n",
              "      <td>44</td>\n",
              "      <td>27</td>\n",
              "      <td>0.139706</td>\n",
              "      <td>0.385624</td>\n",
              "      <td>110.269841</td>\n",
              "      <td>29.048434</td>\n",
              "      <td>12.67</td>\n",
              "      <td>5.647967</td>\n",
              "      <td>2375</td>\n",
              "      <td>1230</td>\n",
              "      <td>2.175325</td>\n",
              "      <td>20</td>\n",
              "      <td>5.647967</td>\n",
              "    </tr>\n",
              "  </tbody>\n",
              "</table>\n",
              "</div>\n",
              "    <div class=\"colab-df-buttons\">\n",
              "\n",
              "  <div class=\"colab-df-container\">\n",
              "    <button class=\"colab-df-convert\" onclick=\"convertToInteractive('df-d017d256-6090-430b-afe9-babba338b5a4')\"\n",
              "            title=\"Convert this dataframe to an interactive table.\"\n",
              "            style=\"display:none;\">\n",
              "\n",
              "  <svg xmlns=\"http://www.w3.org/2000/svg\" height=\"24px\" viewBox=\"0 -960 960 960\">\n",
              "    <path d=\"M120-120v-720h720v720H120Zm60-500h600v-160H180v160Zm220 220h160v-160H400v160Zm0 220h160v-160H400v160ZM180-400h160v-160H180v160Zm440 0h160v-160H620v160ZM180-180h160v-160H180v160Zm440 0h160v-160H620v160Z\"/>\n",
              "  </svg>\n",
              "    </button>\n",
              "\n",
              "  <style>\n",
              "    .colab-df-container {\n",
              "      display:flex;\n",
              "      gap: 12px;\n",
              "    }\n",
              "\n",
              "    .colab-df-convert {\n",
              "      background-color: #E8F0FE;\n",
              "      border: none;\n",
              "      border-radius: 50%;\n",
              "      cursor: pointer;\n",
              "      display: none;\n",
              "      fill: #1967D2;\n",
              "      height: 32px;\n",
              "      padding: 0 0 0 0;\n",
              "      width: 32px;\n",
              "    }\n",
              "\n",
              "    .colab-df-convert:hover {\n",
              "      background-color: #E2EBFA;\n",
              "      box-shadow: 0px 1px 2px rgba(60, 64, 67, 0.3), 0px 1px 3px 1px rgba(60, 64, 67, 0.15);\n",
              "      fill: #174EA6;\n",
              "    }\n",
              "\n",
              "    .colab-df-buttons div {\n",
              "      margin-bottom: 4px;\n",
              "    }\n",
              "\n",
              "    [theme=dark] .colab-df-convert {\n",
              "      background-color: #3B4455;\n",
              "      fill: #D2E3FC;\n",
              "    }\n",
              "\n",
              "    [theme=dark] .colab-df-convert:hover {\n",
              "      background-color: #434B5C;\n",
              "      box-shadow: 0px 1px 3px 1px rgba(0, 0, 0, 0.15);\n",
              "      filter: drop-shadow(0px 1px 2px rgba(0, 0, 0, 0.3));\n",
              "      fill: #FFFFFF;\n",
              "    }\n",
              "  </style>\n",
              "\n",
              "    <script>\n",
              "      const buttonEl =\n",
              "        document.querySelector('#df-d017d256-6090-430b-afe9-babba338b5a4 button.colab-df-convert');\n",
              "      buttonEl.style.display =\n",
              "        google.colab.kernel.accessAllowed ? 'block' : 'none';\n",
              "\n",
              "      async function convertToInteractive(key) {\n",
              "        const element = document.querySelector('#df-d017d256-6090-430b-afe9-babba338b5a4');\n",
              "        const dataTable =\n",
              "          await google.colab.kernel.invokeFunction('convertToInteractive',\n",
              "                                                    [key], {});\n",
              "        if (!dataTable) return;\n",
              "\n",
              "        const docLinkHtml = 'Like what you see? Visit the ' +\n",
              "          '<a target=\"_blank\" href=https://colab.research.google.com/notebooks/data_table.ipynb>data table notebook</a>'\n",
              "          + ' to learn more about interactive tables.';\n",
              "        element.innerHTML = '';\n",
              "        dataTable['output_type'] = 'display_data';\n",
              "        await google.colab.output.renderOutput(dataTable, element);\n",
              "        const docLink = document.createElement('div');\n",
              "        docLink.innerHTML = docLinkHtml;\n",
              "        element.appendChild(docLink);\n",
              "      }\n",
              "    </script>\n",
              "  </div>\n",
              "\n",
              "\n",
              "<div id=\"df-088cd49a-e2d6-4f7e-9e2c-f3069e4e3a0c\">\n",
              "  <button class=\"colab-df-quickchart\" onclick=\"quickchart('df-088cd49a-e2d6-4f7e-9e2c-f3069e4e3a0c')\"\n",
              "            title=\"Suggest charts.\"\n",
              "            style=\"display:none;\">\n",
              "\n",
              "<svg xmlns=\"http://www.w3.org/2000/svg\" height=\"24px\"viewBox=\"0 0 24 24\"\n",
              "     width=\"24px\">\n",
              "    <g>\n",
              "        <path d=\"M19 3H5c-1.1 0-2 .9-2 2v14c0 1.1.9 2 2 2h14c1.1 0 2-.9 2-2V5c0-1.1-.9-2-2-2zM9 17H7v-7h2v7zm4 0h-2V7h2v10zm4 0h-2v-4h2v4z\"/>\n",
              "    </g>\n",
              "</svg>\n",
              "  </button>\n",
              "\n",
              "<style>\n",
              "  .colab-df-quickchart {\n",
              "    background-color: #E8F0FE;\n",
              "    border: none;\n",
              "    border-radius: 50%;\n",
              "    cursor: pointer;\n",
              "    display: none;\n",
              "    fill: #1967D2;\n",
              "    height: 32px;\n",
              "    padding: 0 0 0 0;\n",
              "    width: 32px;\n",
              "  }\n",
              "\n",
              "  .colab-df-quickchart:hover {\n",
              "    background-color: #E2EBFA;\n",
              "    box-shadow: 0px 1px 2px rgba(60, 64, 67, 0.3), 0px 1px 3px 1px rgba(60, 64, 67, 0.15);\n",
              "    fill: #174EA6;\n",
              "  }\n",
              "\n",
              "  [theme=dark] .colab-df-quickchart {\n",
              "    background-color: #3B4455;\n",
              "    fill: #D2E3FC;\n",
              "  }\n",
              "\n",
              "  [theme=dark] .colab-df-quickchart:hover {\n",
              "    background-color: #434B5C;\n",
              "    box-shadow: 0px 1px 3px 1px rgba(0, 0, 0, 0.15);\n",
              "    filter: drop-shadow(0px 1px 2px rgba(0, 0, 0, 0.3));\n",
              "    fill: #FFFFFF;\n",
              "  }\n",
              "</style>\n",
              "\n",
              "  <script>\n",
              "    async function quickchart(key) {\n",
              "      const charts = await google.colab.kernel.invokeFunction(\n",
              "          'suggestCharts', [key], {});\n",
              "    }\n",
              "    (() => {\n",
              "      let quickchartButtonEl =\n",
              "        document.querySelector('#df-088cd49a-e2d6-4f7e-9e2c-f3069e4e3a0c button');\n",
              "      quickchartButtonEl.style.display =\n",
              "        google.colab.kernel.accessAllowed ? 'block' : 'none';\n",
              "    })();\n",
              "  </script>\n",
              "</div>\n",
              "    </div>\n",
              "  </div>\n"
            ]
          },
          "metadata": {},
          "execution_count": 284
        }
      ]
    },
    {
      "cell_type": "code",
      "source": [
        "output.to_csv('final_output.csv')    #downloading the final output"
      ],
      "metadata": {
        "id": "ZyDAtmD-ZH6X"
      },
      "execution_count": null,
      "outputs": []
    },
    {
      "cell_type": "code",
      "source": [],
      "metadata": {
        "id": "LwxvxHR-mJYp"
      },
      "execution_count": null,
      "outputs": []
    },
    {
      "cell_type": "code",
      "source": [],
      "metadata": {
        "id": "JSu4TBWlmRa1"
      },
      "execution_count": null,
      "outputs": []
    },
    {
      "cell_type": "code",
      "source": [],
      "metadata": {
        "id": "sWRzWbxPmScF"
      },
      "execution_count": null,
      "outputs": []
    }
  ],
  "metadata": {
    "colab": {
      "provenance": []
    },
    "kernelspec": {
      "display_name": "Python 3",
      "name": "python3"
    },
    "language_info": {
      "name": "python"
    }
  },
  "nbformat": 4,
  "nbformat_minor": 0
}